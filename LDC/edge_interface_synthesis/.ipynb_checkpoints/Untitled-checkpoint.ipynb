{
 "cells": [
  {
   "cell_type": "code",
   "execution_count": 1,
   "id": "f5fa1541",
   "metadata": {},
   "outputs": [
    {
     "ename": "ModuleNotFoundError",
     "evalue": "No module named 'dataset'",
     "output_type": "error",
     "traceback": [
      "\u001b[0;31m---------------------------------------------------------------------------\u001b[0m",
      "\u001b[0;31mModuleNotFoundError\u001b[0m                       Traceback (most recent call last)",
      "\u001b[0;32m/tmp/ipykernel_15659/4098442937.py\u001b[0m in \u001b[0;36m<module>\u001b[0;34m\u001b[0m\n\u001b[1;32m      1\u001b[0m \u001b[0;32mimport\u001b[0m \u001b[0mnumpy\u001b[0m \u001b[0;32mas\u001b[0m \u001b[0mnp\u001b[0m\u001b[0;34m\u001b[0m\u001b[0;34m\u001b[0m\u001b[0m\n\u001b[1;32m      2\u001b[0m \u001b[0;32mimport\u001b[0m \u001b[0mos\u001b[0m\u001b[0;34m\u001b[0m\u001b[0;34m\u001b[0m\u001b[0m\n\u001b[0;32m----> 3\u001b[0;31m \u001b[0;32mimport\u001b[0m \u001b[0mLDC_interface\u001b[0m \u001b[0;32mas\u001b[0m \u001b[0mldc\u001b[0m\u001b[0;34m\u001b[0m\u001b[0;34m\u001b[0m\u001b[0m\n\u001b[0m\u001b[1;32m      4\u001b[0m \u001b[0;32mfrom\u001b[0m \u001b[0mimantics\u001b[0m \u001b[0;32mimport\u001b[0m \u001b[0mPolygons\u001b[0m\u001b[0;34m,\u001b[0m \u001b[0mMask\u001b[0m\u001b[0;34m\u001b[0m\u001b[0;34m\u001b[0m\u001b[0m\n\u001b[1;32m      5\u001b[0m \u001b[0;32mimport\u001b[0m \u001b[0mglob\u001b[0m\u001b[0;34m\u001b[0m\u001b[0;34m\u001b[0m\u001b[0m\n",
      "\u001b[0;32m/data/ij/edge/LDC/good_apple/LDC_interface.py\u001b[0m in \u001b[0;36m<module>\u001b[0;34m\u001b[0m\n\u001b[1;32m     13\u001b[0m \u001b[0;32mfrom\u001b[0m \u001b[0mthop\u001b[0m \u001b[0;32mimport\u001b[0m \u001b[0mprofile\u001b[0m\u001b[0;34m\u001b[0m\u001b[0;34m\u001b[0m\u001b[0m\n\u001b[1;32m     14\u001b[0m \u001b[0;34m\u001b[0m\u001b[0m\n\u001b[0;32m---> 15\u001b[0;31m \u001b[0;32mfrom\u001b[0m \u001b[0mdataset\u001b[0m \u001b[0;32mimport\u001b[0m \u001b[0mDATASET_NAMES\u001b[0m\u001b[0;34m,\u001b[0m \u001b[0mBipedDataset\u001b[0m\u001b[0;34m,\u001b[0m \u001b[0mdataset_info\u001b[0m\u001b[0;34m\u001b[0m\u001b[0;34m\u001b[0m\u001b[0m\n\u001b[0m\u001b[1;32m     16\u001b[0m \u001b[0;32mfrom\u001b[0m \u001b[0mtorch\u001b[0m\u001b[0;34m.\u001b[0m\u001b[0mutils\u001b[0m\u001b[0;34m.\u001b[0m\u001b[0mdata\u001b[0m \u001b[0;32mimport\u001b[0m \u001b[0mDataset\u001b[0m\u001b[0;34m\u001b[0m\u001b[0;34m\u001b[0m\u001b[0m\n\u001b[1;32m     17\u001b[0m \u001b[0;34m\u001b[0m\u001b[0m\n",
      "\u001b[0;31mModuleNotFoundError\u001b[0m: No module named 'dataset'"
     ]
    }
   ],
   "source": [
    "import numpy as np\n",
    "import os\n",
    "import LDC_interface as ldc\n",
    "from imantics import Polygons, Mask\n",
    "import glob\n",
    "import cv2\n",
    "import numpy as np\n",
    "import matplotlib.pyplot as plt\n",
    "    \n",
    "fileEx = r'.png'\n",
    "root_path = './'\n",
    "img_list = [file for file in os.listdir(root_path) if file.endswith(fileEx)]\n",
    "img_list"
   ]
  },
  {
   "cell_type": "code",
   "execution_count": null,
   "id": "1177b0cc",
   "metadata": {},
   "outputs": [],
   "source": [
    "\n",
    "back_img = cv2.imread(\"/data/ij/Mosaic_data_augmentation_YOLO/images_ori/1.jpg\")\n",
    "\n",
    "for img_file in img_list : \n",
    "    print(img_file)\n",
    "    img_path = f'{root_path}/{img_file}'\n",
    "    target_img = cv2.imread(img_path)\n",
    "    mask, average = ldc.main(img_path)\n",
    "    polygons = Mask(fuse).polygons()\n",
    "    polygon_list = []\n",
    "    for seg in polygons.segmentation: \n",
    "        if len(seg) > 3:\n",
    "            polygon_list.append(seg)\n",
    "            \n",
    "    for idx, a in enumerate(polygon_list):\n",
    "        poly_points = [(a[i], a[i+1]) for i in range(0, len(a), 2)]\n",
    "\n",
    "        polygon = Polygon(poly_points)\n",
    "\n",
    "        height, width = mask.shape\n",
    "        for y in range(height):\n",
    "            for x in range(width):\n",
    "                if polygon.contains(Point(x, y)):\n",
    "                    pass\n",
    "                    print(x, y,mask[y, x])\n",
    "                    mask[y, x] = 255\n",
    "    mask_inv = cv2.bitwise_not(mask)\n",
    "    mask_inv\n",
    "    \n",
    "    height1, width1 = target_img.shape[:2]\n",
    "    height2, width2 = back_img.shape[:2]\n",
    "    x = (width2 - width1)//2\n",
    "    y = height2 - height1\n",
    "    w = x + width1\n",
    "    h = y + height1\n",
    "    \n",
    "    roi = img2[y:h, x:w]\n",
    "    fg = cv2.bitwise_and(target_img, target_img, mask=mask_inv)\n",
    "    bg = cv2.bitwise_and(roi, roi, mask=mask)\n",
    "    back_img[y:h, x:w] = fg + bg\n",
    "    \n",
    "    f = plt.figure()\n",
    "    f.set_figwidth(20)\n",
    "    f.set_figheight(15)\n",
    "    plt.imshow(img2)\n",
    "    plt.show()\n",
    "    \n",
    "    break\n"
   ]
  },
  {
   "cell_type": "code",
   "execution_count": null,
   "id": "8cf15b87",
   "metadata": {},
   "outputs": [],
   "source": []
  }
 ],
 "metadata": {
  "kernelspec": {
   "display_name": "Python 3 (ipykernel)",
   "language": "python",
   "name": "python3"
  },
  "language_info": {
   "codemirror_mode": {
    "name": "ipython",
    "version": 3
   },
   "file_extension": ".py",
   "mimetype": "text/x-python",
   "name": "python",
   "nbconvert_exporter": "python",
   "pygments_lexer": "ipython3",
   "version": "3.7.11"
  }
 },
 "nbformat": 4,
 "nbformat_minor": 5
}
